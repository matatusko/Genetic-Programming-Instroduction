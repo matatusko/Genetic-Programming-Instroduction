{
 "cells": [
  {
   "cell_type": "markdown",
   "metadata": {},
   "source": [
    "# Fitness function\n",
    "\n",
    "A function that estimates the success of a single speciment - it will allow for survival of the fittest, meaning that the successful speciment will have a higher chance to be picked and reproduce into another generation.\n",
    "\n",
    "In this case we create a score between 0 and 100 as to how close an estimate string is to the real thing."
   ]
  },
  {
   "cell_type": "code",
   "execution_count": 1,
   "metadata": {
    "collapsed": true
   },
   "outputs": [],
   "source": [
    "def fitness(input_word, test_word):\n",
    "    if len(input_word) != len(test_word):\n",
    "        print('Input word and test word are not of equal length!')\n",
    "        return\n",
    "    \n",
    "    score = 0\n",
    "    for index, char in enumerate(test_word):\n",
    "        if char == input_word[index]:\n",
    "            score += 1\n",
    "            \n",
    "    return score * 100 / len(input_word)"
   ]
  },
  {
   "cell_type": "markdown",
   "metadata": {},
   "source": [
    "# Create individuals\n",
    "\n",
    "Taking its influence from human evolution and DNA, Genetic Programming roughly operates in the similar way.\n",
    "DNA is composed of **genes** and each gene has its variant form called **allele**. In out case, since we are trying to figure out a string based on evolution of randomly selected characters, each letter is a gene, and the value of each particular word is allele - the whole string would be the DNA.\n",
    "Thus, the word *python* is a DNA, each letter is a gene, and the first gene *p* is an allele of that gene.\n",
    "\n",
    "In our case, we are assuming we already know the length of the string we want to recreate, and the population is every word that can be composed using alphabetic character in the same length. Genetic algorithm will explore all possible combinations.\n",
    "\n",
    "The main idea when creating a first population is that we shouldn't point the algorithm in a corrent direction right away - instead the first population should cover as wide range of possibilities as possible. The perfect population should cover every possible allele, but obviously that's not doable due to the lack of memory and computing power. Instead, we will generate random letter in place of each charater of a specified length."
   ]
  },
  {
   "cell_type": "code",
   "execution_count": 2,
   "metadata": {
    "collapsed": true
   },
   "outputs": [],
   "source": [
    "import random\n",
    "import string\n",
    "\n",
    "def generate_word(length):\n",
    "    return ''.join(random.choice(string.ascii_letters) for _ in range(length))\n",
    "\n",
    "def generate_initial_population(population_size, input_word_length):\n",
    "    return [generate_word(input_word_length) for _ in range(population_size)]"
   ]
  },
  {
   "cell_type": "markdown",
   "metadata": {},
   "source": [
    "# Breeding\n",
    "\n",
    "Breeding occurs in the way that 2 parents are chosen based on their fitness score and parts of each parent is taken at random (or using some breeding techniques) to create and offspring.\n",
    "\n",
    "## Parents selection\n",
    "\n",
    "For parents, usually the best fitted individuals will be selected, but it's important to not discard other completely as part of their DNA might be crucial for the 'survival'. In other ways choosing only the good solutions in the begining will cause the algorithm to converge quickly toward local minimum due to the restricted amount of information available, instead of finding the best possible solution.\n",
    "\n",
    "One way to do that is to create a perfect population and choose N samples from there, but also to allow for a specific number of lucky few individuals without any discriminations to their fitness levels."
   ]
  },
  {
   "cell_type": "code",
   "execution_count": 3,
   "metadata": {
    "collapsed": true
   },
   "outputs": [],
   "source": [
    "def compute_perfect_population(population, input_word):\n",
    "    most_fitted = []\n",
    "    for individual in population:\n",
    "        most_fitted.append((individual, fitness(input_word, individual)))\n",
    "    \n",
    "    return sorted(most_fitted, key=lambda x: x[1], reverse=True)\n",
    "\n",
    "def select_parents(most_fitted, num_best, num_lucky):\n",
    "    parents = []\n",
    "    for i in range(num_best):\n",
    "        parents.append(most_fitted[i][0])\n",
    "    for i in range(num_lucky):\n",
    "        parents.append(random.choice(most_fitted)[0])\n",
    "    \n",
    "    random.shuffle(parents)\n",
    "    return parents"
   ]
  },
  {
   "cell_type": "markdown",
   "metadata": {},
   "source": [
    "## Mutation\n",
    "\n",
    "To make things more interested and to prevent the algorithm from stopping in local minimum (or to increase the chances of finding the global optimum), we will introduce a small probability for each offspring that one of its alleles (letters) will mutate - meaning it will be replaced by a randomly chosen letter."
   ]
  },
  {
   "cell_type": "code",
   "execution_count": 4,
   "metadata": {
    "collapsed": true
   },
   "outputs": [],
   "source": [
    "def mutate_individual(individual):\n",
    "    index = int(random.random() * len(individual))\n",
    "    if (index == 0):\n",
    "        return random.choice(string.ascii_letters) + individual[1:]\n",
    "    else:\n",
    "        return individual[:index] + random.choice(string.ascii_letters) + individual[index+1:]"
   ]
  },
  {
   "cell_type": "markdown",
   "metadata": {},
   "source": [
    "## Offspring generation\n",
    "\n",
    "As mentioned above, the idea of breeding is to mix the DNA of parents in order to create an offspring that gets its parents' features. The DNA of each parent is defined by their alleles (letters) - in order to mix DNA we just need to mix the alleles of each parent.\n",
    "\n",
    "There are many ways to do this. In this case we're going for the simpliest solution - for each letter of the child, take at random one of the letters from either parent. Of course we'll have to create a similar regulation to 'one'-child policy, otherwise the population will expload in exponentially. To do so, let's restrict he number of children to the number of individuals in the first generation. When creating children, we will also provide a small probability for mutation for each child."
   ]
  },
  {
   "cell_type": "code",
   "execution_count": 5,
   "metadata": {
    "collapsed": true
   },
   "outputs": [],
   "source": [
    "def create_child(individual_1, individual_2):\n",
    "    assert len(individual_1) == len(individual_2)\n",
    "    return ''.join(individual_1[i] if random.random() < .5 else individual_2[i] for i in range(len(individual_1)))\n",
    "\n",
    "def create_children(parents, num_children, mutation_chance=.05):\n",
    "    next_population = []\n",
    "    for _ in range(num_children):\n",
    "        parent_1 = random.choice(parents)\n",
    "        parent_2 = random.choice(parents)\n",
    "        child = create_child(parent_1, parent_2)\n",
    "        \n",
    "        if random.random() < mutation_chance:\n",
    "            child = mutate_individual(child)\n",
    "            \n",
    "        next_population.append(child)\n",
    "        \n",
    "    return next_population"
   ]
  },
  {
   "cell_type": "markdown",
   "metadata": {},
   "source": [
    "# Evolution\n",
    "\n",
    "Time to put together all the functions we've created and run the evolution! Set some hyperparameters and watch the *biology* do its job in recreating the input string."
   ]
  },
  {
   "cell_type": "code",
   "execution_count": 14,
   "metadata": {
    "collapsed": true
   },
   "outputs": [],
   "source": [
    "import pandas as pd\n",
    "\n",
    "POPULATION_SIZE = 100\n",
    "MUTATION_CHANCE = .05\n",
    "LUCKY_FEW = int(.25 * POPULATION_SIZE)\n",
    "NUM_BEST = POPULATION_SIZE - LUCKY_FEW -1\n",
    "NUM_GENERATIONS = 1000\n",
    "INPUT_STRING = 'armageddon'"
   ]
  },
  {
   "cell_type": "code",
   "execution_count": 18,
   "metadata": {
    "collapsed": true
   },
   "outputs": [],
   "source": [
    "history = []\n",
    "initial_population = generate_initial_population(POPULATION_SIZE, len(INPUT_STRING))"
   ]
  },
  {
   "cell_type": "code",
   "execution_count": 19,
   "metadata": {
    "collapsed": true
   },
   "outputs": [],
   "source": [
    "def run_evolution(curr_gen, population):\n",
    "    most_fitted = compute_perfect_population(population, INPUT_STRING)\n",
    "    \n",
    "    if curr_gen % 25 == 0:\n",
    "        print('Best effort in generation #{} is \\'{}\\' with a score of: {}'.format(curr_gen, most_fitted[0][0], most_fitted[0][1]))\n",
    "    history.append((curr_gen, most_fitted[0][1], most_fitted[0][0]))\n",
    "\n",
    "    parents = select_parents(most_fitted, NUM_BEST, LUCKY_FEW)\n",
    "    children = create_children(parents, POPULATION_SIZE)\n",
    "    \n",
    "    if most_fitted[0][1] >= 100:\n",
    "        print('Achieved 100% replication in {} generations!'.format(curr_gen))\n",
    "        return\n",
    "    \n",
    "    curr_gen += 1\n",
    "    if curr_gen < NUM_GENERATIONS:\n",
    "        run_evolution(curr_gen, children)\n",
    "    else:\n",
    "        return most_fitted"
   ]
  },
  {
   "cell_type": "code",
   "execution_count": 20,
   "metadata": {},
   "outputs": [
    {
     "name": "stdout",
     "output_type": "stream",
     "text": [
      "Best effort in generation #0 is 'qYBaWdgiqn' with a score of: 20.0\n",
      "Best effort in generation #25 is 'IYnaggddon' with a score of: 60.0\n",
      "Best effort in generation #50 is 'DrmagSddon' with a score of: 80.0\n",
      "Best effort in generation #75 is 'urFagkddon' with a score of: 70.0\n",
      "Best effort in generation #100 is 'DrUagGddon' with a score of: 70.0\n",
      "Best effort in generation #125 is 'Drmagkddon' with a score of: 80.0\n",
      "Best effort in generation #150 is 'arUagdddon' with a score of: 80.0\n",
      "Best effort in generation #175 is 'arNagTddon' with a score of: 80.0\n",
      "Best effort in generation #200 is 'armagTddon' with a score of: 90.0\n",
      "Achieved 100% replication in 217 generations!\n"
     ]
    }
   ],
   "source": [
    "most_fitted = run_evolution(0, initial_population)"
   ]
  },
  {
   "cell_type": "markdown",
   "metadata": {},
   "source": [
    "# Some extra visualization\n",
    "\n",
    "Use bokeh to visualize the training with most fitted individual from each generation."
   ]
  },
  {
   "cell_type": "code",
   "execution_count": 21,
   "metadata": {},
   "outputs": [
    {
     "data": {
      "text/html": [
       "\n",
       "    <div class=\"bk-root\">\n",
       "        <a href=\"http://bokeh.pydata.org\" target=\"_blank\" class=\"bk-logo bk-logo-small bk-logo-notebook\"></a>\n",
       "        <span id=\"e8a792f9-404c-414c-872a-1a38c42dc84c\">Loading BokehJS ...</span>\n",
       "    </div>"
      ]
     },
     "metadata": {},
     "output_type": "display_data"
    },
    {
     "data": {
      "application/javascript": [
       "\n",
       "(function(global) {\n",
       "  function now() {\n",
       "    return new Date();\n",
       "  }\n",
       "\n",
       "  var force = true;\n",
       "\n",
       "  if (typeof (window._bokeh_onload_callbacks) === \"undefined\" || force === true) {\n",
       "    window._bokeh_onload_callbacks = [];\n",
       "    window._bokeh_is_loading = undefined;\n",
       "  }\n",
       "\n",
       "\n",
       "  \n",
       "  if (typeof (window._bokeh_timeout) === \"undefined\" || force === true) {\n",
       "    window._bokeh_timeout = Date.now() + 5000;\n",
       "    window._bokeh_failed_load = false;\n",
       "  }\n",
       "\n",
       "  var NB_LOAD_WARNING = {'data': {'text/html':\n",
       "     \"<div style='background-color: #fdd'>\\n\"+\n",
       "     \"<p>\\n\"+\n",
       "     \"BokehJS does not appear to have successfully loaded. If loading BokehJS from CDN, this \\n\"+\n",
       "     \"may be due to a slow or bad network connection. Possible fixes:\\n\"+\n",
       "     \"</p>\\n\"+\n",
       "     \"<ul>\\n\"+\n",
       "     \"<li>re-rerun `output_notebook()` to attempt to load from CDN again, or</li>\\n\"+\n",
       "     \"<li>use INLINE resources instead, as so:</li>\\n\"+\n",
       "     \"</ul>\\n\"+\n",
       "     \"<code>\\n\"+\n",
       "     \"from bokeh.resources import INLINE\\n\"+\n",
       "     \"output_notebook(resources=INLINE)\\n\"+\n",
       "     \"</code>\\n\"+\n",
       "     \"</div>\"}};\n",
       "\n",
       "  function display_loaded() {\n",
       "    if (window.Bokeh !== undefined) {\n",
       "      var el = document.getElementById(\"e8a792f9-404c-414c-872a-1a38c42dc84c\");\n",
       "      el.textContent = \"BokehJS \" + Bokeh.version + \" successfully loaded.\";\n",
       "    } else if (Date.now() < window._bokeh_timeout) {\n",
       "      setTimeout(display_loaded, 100)\n",
       "    }\n",
       "  }\n",
       "\n",
       "  function run_callbacks() {\n",
       "    window._bokeh_onload_callbacks.forEach(function(callback) { callback() });\n",
       "    delete window._bokeh_onload_callbacks\n",
       "    console.info(\"Bokeh: all callbacks have finished\");\n",
       "  }\n",
       "\n",
       "  function load_libs(js_urls, callback) {\n",
       "    window._bokeh_onload_callbacks.push(callback);\n",
       "    if (window._bokeh_is_loading > 0) {\n",
       "      console.log(\"Bokeh: BokehJS is being loaded, scheduling callback at\", now());\n",
       "      return null;\n",
       "    }\n",
       "    if (js_urls == null || js_urls.length === 0) {\n",
       "      run_callbacks();\n",
       "      return null;\n",
       "    }\n",
       "    console.log(\"Bokeh: BokehJS not loaded, scheduling load and callback at\", now());\n",
       "    window._bokeh_is_loading = js_urls.length;\n",
       "    for (var i = 0; i < js_urls.length; i++) {\n",
       "      var url = js_urls[i];\n",
       "      var s = document.createElement('script');\n",
       "      s.src = url;\n",
       "      s.async = false;\n",
       "      s.onreadystatechange = s.onload = function() {\n",
       "        window._bokeh_is_loading--;\n",
       "        if (window._bokeh_is_loading === 0) {\n",
       "          console.log(\"Bokeh: all BokehJS libraries loaded\");\n",
       "          run_callbacks()\n",
       "        }\n",
       "      };\n",
       "      s.onerror = function() {\n",
       "        console.warn(\"failed to load library \" + url);\n",
       "      };\n",
       "      console.log(\"Bokeh: injecting script tag for BokehJS library: \", url);\n",
       "      document.getElementsByTagName(\"head\")[0].appendChild(s);\n",
       "    }\n",
       "  };var element = document.getElementById(\"e8a792f9-404c-414c-872a-1a38c42dc84c\");\n",
       "  if (element == null) {\n",
       "    console.log(\"Bokeh: ERROR: autoload.js configured with elementid 'e8a792f9-404c-414c-872a-1a38c42dc84c' but no matching script tag was found. \")\n",
       "    return false;\n",
       "  }\n",
       "\n",
       "  var js_urls = [\"https://cdn.pydata.org/bokeh/release/bokeh-0.12.5.min.js\", \"https://cdn.pydata.org/bokeh/release/bokeh-widgets-0.12.5.min.js\"];\n",
       "\n",
       "  var inline_js = [\n",
       "    function(Bokeh) {\n",
       "      Bokeh.set_log_level(\"info\");\n",
       "    },\n",
       "    \n",
       "    function(Bokeh) {\n",
       "      \n",
       "    },\n",
       "    \n",
       "    function(Bokeh) {\n",
       "      \n",
       "      document.getElementById(\"e8a792f9-404c-414c-872a-1a38c42dc84c\").textContent = \"BokehJS is loading...\";\n",
       "    },\n",
       "    function(Bokeh) {\n",
       "      console.log(\"Bokeh: injecting CSS: https://cdn.pydata.org/bokeh/release/bokeh-0.12.5.min.css\");\n",
       "      Bokeh.embed.inject_css(\"https://cdn.pydata.org/bokeh/release/bokeh-0.12.5.min.css\");\n",
       "      console.log(\"Bokeh: injecting CSS: https://cdn.pydata.org/bokeh/release/bokeh-widgets-0.12.5.min.css\");\n",
       "      Bokeh.embed.inject_css(\"https://cdn.pydata.org/bokeh/release/bokeh-widgets-0.12.5.min.css\");\n",
       "    }\n",
       "  ];\n",
       "\n",
       "  function run_inline_js() {\n",
       "    \n",
       "    if ((window.Bokeh !== undefined) || (force === true)) {\n",
       "      for (var i = 0; i < inline_js.length; i++) {\n",
       "        inline_js[i](window.Bokeh);\n",
       "      }if (force === true) {\n",
       "        display_loaded();\n",
       "      }} else if (Date.now() < window._bokeh_timeout) {\n",
       "      setTimeout(run_inline_js, 100);\n",
       "    } else if (!window._bokeh_failed_load) {\n",
       "      console.log(\"Bokeh: BokehJS failed to load within specified timeout.\");\n",
       "      window._bokeh_failed_load = true;\n",
       "    } else if (force !== true) {\n",
       "      var cell = $(document.getElementById(\"e8a792f9-404c-414c-872a-1a38c42dc84c\")).parents('.cell').data().cell;\n",
       "      cell.output_area.append_execute_result(NB_LOAD_WARNING)\n",
       "    }\n",
       "\n",
       "  }\n",
       "\n",
       "  if (window._bokeh_is_loading === 0) {\n",
       "    console.log(\"Bokeh: BokehJS loaded, going straight to plotting\");\n",
       "    run_inline_js();\n",
       "  } else {\n",
       "    load_libs(js_urls, function() {\n",
       "      console.log(\"Bokeh: BokehJS plotting callback run at\", now());\n",
       "      run_inline_js();\n",
       "    });\n",
       "  }\n",
       "}(this));"
      ]
     },
     "metadata": {},
     "output_type": "display_data"
    }
   ],
   "source": [
    "from bokeh.io import output_notebook, show\n",
    "from bokeh.plotting import figure\n",
    "from bokeh.models import ColumnDataSource, HoverTool, LabelSet, Label\n",
    "\n",
    "output_notebook()"
   ]
  },
  {
   "cell_type": "code",
   "execution_count": 22,
   "metadata": {},
   "outputs": [
    {
     "data": {
      "text/html": [
       "\n",
       "\n",
       "    <div class=\"bk-root\">\n",
       "        <div class=\"bk-plotdiv\" id=\"42ea8c76-4be3-4f3c-b828-f1138258f400\"></div>\n",
       "    </div>\n",
       "<script type=\"text/javascript\">\n",
       "  \n",
       "  (function(global) {\n",
       "    function now() {\n",
       "      return new Date();\n",
       "    }\n",
       "  \n",
       "    var force = false;\n",
       "  \n",
       "    if (typeof (window._bokeh_onload_callbacks) === \"undefined\" || force === true) {\n",
       "      window._bokeh_onload_callbacks = [];\n",
       "      window._bokeh_is_loading = undefined;\n",
       "    }\n",
       "  \n",
       "  \n",
       "    \n",
       "    if (typeof (window._bokeh_timeout) === \"undefined\" || force === true) {\n",
       "      window._bokeh_timeout = Date.now() + 0;\n",
       "      window._bokeh_failed_load = false;\n",
       "    }\n",
       "  \n",
       "    var NB_LOAD_WARNING = {'data': {'text/html':\n",
       "       \"<div style='background-color: #fdd'>\\n\"+\n",
       "       \"<p>\\n\"+\n",
       "       \"BokehJS does not appear to have successfully loaded. If loading BokehJS from CDN, this \\n\"+\n",
       "       \"may be due to a slow or bad network connection. Possible fixes:\\n\"+\n",
       "       \"</p>\\n\"+\n",
       "       \"<ul>\\n\"+\n",
       "       \"<li>re-rerun `output_notebook()` to attempt to load from CDN again, or</li>\\n\"+\n",
       "       \"<li>use INLINE resources instead, as so:</li>\\n\"+\n",
       "       \"</ul>\\n\"+\n",
       "       \"<code>\\n\"+\n",
       "       \"from bokeh.resources import INLINE\\n\"+\n",
       "       \"output_notebook(resources=INLINE)\\n\"+\n",
       "       \"</code>\\n\"+\n",
       "       \"</div>\"}};\n",
       "  \n",
       "    function display_loaded() {\n",
       "      if (window.Bokeh !== undefined) {\n",
       "        var el = document.getElementById(\"42ea8c76-4be3-4f3c-b828-f1138258f400\");\n",
       "        el.textContent = \"BokehJS \" + Bokeh.version + \" successfully loaded.\";\n",
       "      } else if (Date.now() < window._bokeh_timeout) {\n",
       "        setTimeout(display_loaded, 100)\n",
       "      }\n",
       "    }\n",
       "  \n",
       "    function run_callbacks() {\n",
       "      window._bokeh_onload_callbacks.forEach(function(callback) { callback() });\n",
       "      delete window._bokeh_onload_callbacks\n",
       "      console.info(\"Bokeh: all callbacks have finished\");\n",
       "    }\n",
       "  \n",
       "    function load_libs(js_urls, callback) {\n",
       "      window._bokeh_onload_callbacks.push(callback);\n",
       "      if (window._bokeh_is_loading > 0) {\n",
       "        console.log(\"Bokeh: BokehJS is being loaded, scheduling callback at\", now());\n",
       "        return null;\n",
       "      }\n",
       "      if (js_urls == null || js_urls.length === 0) {\n",
       "        run_callbacks();\n",
       "        return null;\n",
       "      }\n",
       "      console.log(\"Bokeh: BokehJS not loaded, scheduling load and callback at\", now());\n",
       "      window._bokeh_is_loading = js_urls.length;\n",
       "      for (var i = 0; i < js_urls.length; i++) {\n",
       "        var url = js_urls[i];\n",
       "        var s = document.createElement('script');\n",
       "        s.src = url;\n",
       "        s.async = false;\n",
       "        s.onreadystatechange = s.onload = function() {\n",
       "          window._bokeh_is_loading--;\n",
       "          if (window._bokeh_is_loading === 0) {\n",
       "            console.log(\"Bokeh: all BokehJS libraries loaded\");\n",
       "            run_callbacks()\n",
       "          }\n",
       "        };\n",
       "        s.onerror = function() {\n",
       "          console.warn(\"failed to load library \" + url);\n",
       "        };\n",
       "        console.log(\"Bokeh: injecting script tag for BokehJS library: \", url);\n",
       "        document.getElementsByTagName(\"head\")[0].appendChild(s);\n",
       "      }\n",
       "    };var element = document.getElementById(\"42ea8c76-4be3-4f3c-b828-f1138258f400\");\n",
       "    if (element == null) {\n",
       "      console.log(\"Bokeh: ERROR: autoload.js configured with elementid '42ea8c76-4be3-4f3c-b828-f1138258f400' but no matching script tag was found. \")\n",
       "      return false;\n",
       "    }\n",
       "  \n",
       "    var js_urls = [];\n",
       "  \n",
       "    var inline_js = [\n",
       "      function(Bokeh) {\n",
       "        (function() {\n",
       "          var fn = function() {\n",
       "            var docs_json = {\"18d93de3-d169-48ae-974f-ae6416f56a4a\":{\"roots\":{\"references\":[{\"attributes\":{},\"id\":\"699362a6-8554-4036-88f8-19fc92a1737f\",\"type\":\"BasicTickFormatter\"},{\"attributes\":{\"callback\":null},\"id\":\"eeaf03f1-7724-4947-968d-4237c28f9e6b\",\"type\":\"DataRange1d\"},{\"attributes\":{\"plot\":null,\"text\":\"Best fitted individual in each generation.\"},\"id\":\"be1f7cd3-02fe-415a-8078-ae128eddf87e\",\"type\":\"Title\"},{\"attributes\":{\"active_drag\":\"auto\",\"active_scroll\":\"auto\",\"active_tap\":\"auto\",\"tools\":[{\"id\":\"7b30150f-d47d-45a7-ac1b-a4ed8aae33ba\",\"type\":\"HoverTool\"}]},\"id\":\"d9263534-3e9e-4be5-b347-7077bf09ef2c\",\"type\":\"Toolbar\"},{\"attributes\":{},\"id\":\"09e21dd0-a94b-46c9-9d35-00a4ae980f3d\",\"type\":\"ToolEvents\"},{\"attributes\":{\"axis_label\":\"Generation\",\"formatter\":{\"id\":\"729f4d9a-9bc0-4a12-9807-707ceedbef4f\",\"type\":\"BasicTickFormatter\"},\"plot\":{\"id\":\"bbef25d7-a410-455a-bc67-0fbaabad9dbc\",\"subtype\":\"Figure\",\"type\":\"Plot\"},\"ticker\":{\"id\":\"66cf0545-72c6-48d7-88cb-2e3ab895b02d\",\"type\":\"BasicTicker\"}},\"id\":\"bc18cd0a-405d-4be0-9cc8-fec94fcae151\",\"type\":\"LinearAxis\"},{\"attributes\":{\"callback\":null},\"id\":\"bc79a2d4-d4c5-4a6a-bd08-d7bb2031090d\",\"type\":\"DataRange1d\"},{\"attributes\":{},\"id\":\"66cf0545-72c6-48d7-88cb-2e3ab895b02d\",\"type\":\"BasicTicker\"},{\"attributes\":{\"plot\":{\"id\":\"bbef25d7-a410-455a-bc67-0fbaabad9dbc\",\"subtype\":\"Figure\",\"type\":\"Plot\"},\"ticker\":{\"id\":\"66cf0545-72c6-48d7-88cb-2e3ab895b02d\",\"type\":\"BasicTicker\"}},\"id\":\"a2e4ee11-2d9a-4821-8732-8f34c31f3953\",\"type\":\"Grid\"},{\"attributes\":{\"axis_label\":\"Score\",\"formatter\":{\"id\":\"699362a6-8554-4036-88f8-19fc92a1737f\",\"type\":\"BasicTickFormatter\"},\"plot\":{\"id\":\"bbef25d7-a410-455a-bc67-0fbaabad9dbc\",\"subtype\":\"Figure\",\"type\":\"Plot\"},\"ticker\":{\"id\":\"af951516-a8a3-4745-8a08-dcb427a69152\",\"type\":\"BasicTicker\"}},\"id\":\"76153e18-5667-478c-9744-758b453fe493\",\"type\":\"LinearAxis\"},{\"attributes\":{},\"id\":\"af951516-a8a3-4745-8a08-dcb427a69152\",\"type\":\"BasicTicker\"},{\"attributes\":{\"dimension\":1,\"plot\":{\"id\":\"bbef25d7-a410-455a-bc67-0fbaabad9dbc\",\"subtype\":\"Figure\",\"type\":\"Plot\"},\"ticker\":{\"id\":\"af951516-a8a3-4745-8a08-dcb427a69152\",\"type\":\"BasicTicker\"}},\"id\":\"1acd475d-349e-4a97-a43e-263ac3b85921\",\"type\":\"Grid\"},{\"attributes\":{\"line_color\":{\"value\":\"#1f77b4\"},\"line_width\":{\"value\":2},\"x\":{\"field\":\"generation\"},\"y\":{\"field\":\"score\"}},\"id\":\"d52dfe57-5514-47e8-842c-60ffcfeab7bd\",\"type\":\"Line\"},{\"attributes\":{\"line_alpha\":{\"value\":0.1},\"line_color\":{\"value\":\"#1f77b4\"},\"line_width\":{\"value\":2},\"x\":{\"field\":\"generation\"},\"y\":{\"field\":\"score\"}},\"id\":\"bdf88bd9-7233-409d-9e5d-e6de168584c6\",\"type\":\"Line\"},{\"attributes\":{\"data_source\":{\"id\":\"68753976-2f47-414d-8584-64d2d154e646\",\"type\":\"ColumnDataSource\"},\"glyph\":{\"id\":\"d52dfe57-5514-47e8-842c-60ffcfeab7bd\",\"type\":\"Line\"},\"hover_glyph\":null,\"muted_glyph\":null,\"nonselection_glyph\":{\"id\":\"bdf88bd9-7233-409d-9e5d-e6de168584c6\",\"type\":\"Line\"},\"selection_glyph\":null},\"id\":\"a9bcece8-0070-4a58-928d-0d1d6129b2c8\",\"type\":\"GlyphRenderer\"},{\"attributes\":{},\"id\":\"729f4d9a-9bc0-4a12-9807-707ceedbef4f\",\"type\":\"BasicTickFormatter\"},{\"attributes\":{\"angle\":{\"units\":\"rad\",\"value\":0.4},\"level\":\"glyph\",\"plot\":{\"id\":\"bbef25d7-a410-455a-bc67-0fbaabad9dbc\",\"subtype\":\"Figure\",\"type\":\"Plot\"},\"source\":{\"id\":\"96da392c-3984-4418-b771-f0d9060f944a\",\"type\":\"ColumnDataSource\"},\"text\":{\"field\":\"individual\"},\"x\":{\"field\":\"generation\"},\"x_offset\":{\"value\":15},\"y\":{\"field\":\"score\"},\"y_offset\":{\"value\":5}},\"id\":\"743d99a7-36bd-4c4e-a065-b37767109051\",\"type\":\"LabelSet\"},{\"attributes\":{\"callback\":null,\"column_names\":[\"generation\",\"score\",\"individual\"],\"data\":{\"generation\":[0,1,2,3,4,5,6,7,8,9,10,11,12,13,14,15,16,17,18,19,20,21,22,23,24,25,26,27,28,29,30,31,32,33,34,35,36,37,38,39,40,41,42,43,44,45,46,47,48,49,50,51,52,53,54,55,56,57,58,59,60,61,62,63,64,65,66,67,68,69,70,71,72,73,74,75,76,77,78,79,80,81,82,83,84,85,86,87,88,89,90,91,92,93,94,95,96,97,98,99,100,101,102,103,104,105,106,107,108,109,110,111,112,113,114,115,116,117,118,119,120,121,122,123,124,125,126,127,128,129,130,131,132,133,134,135,136,137,138,139,140,141,142,143,144,145,146,147,148,149,150,151,152,153,154,155,156,157,158,159,160,161,162,163,164,165,166,167,168,169,170,171,172,173,174,175,176,177,178,179,180,181,182,183,184,185,186,187,188,189,190,191,192,193,194,195,196,197,198,199,200,201,202,203,204,205,206,207,208,209,210,211,212,213,214,215,216,217],\"individual\":[\"qYBaWdgiqn\",\"sgnalrdVVT\",\"BgnalTdrGT\",\"ulkWiHdDol\",\"dPqftCydon\",\"dPqfarydon\",\"wsDptTddow\",\"KPOOwxdCon\",\"oskfiwddon\",\"olDawCddow\",\"DRwaledOos\",\"sRYaogddoH\",\"oRUaggdXon\",\"oRUaggdXon\",\"oswagktron\",\"oTwagkndon\",\"oTUagTdlon\",\"oTFagXdlon\",\"uZwagkddon\",\"uZOagHddon\",\"ITUagHddon\",\"oTOagvddon\",\"sTwagCddon\",\"sTwagSddon\",\"uZOagHddon\",\"IYnaggddon\",\"DoUaggddon\",\"sTkagSddon\",\"oYUagSddon\",\"uSwagSddon\",\"oTwaggddon\",\"sDwagkddon\",\"oWmaggddon\",\"sDmaggddon\",\"oDmagkddon\",\"orUagkddon\",\"urwagSddon\",\"DrUagvddon\",\"oTmagvddon\",\"orwagvddon\",\"orFagvddon\",\"urmagvddon\",\"Drmagvddon\",\"orFagSddon\",\"orwagkddon\",\"DrwagSddon\",\"Drmaggddon\",\"DrmagSddon\",\"ormagkddon\",\"DrmagSddon\",\"DrmagSddon\",\"DrmagSddon\",\"DrUagkddon\",\"orFagkddon\",\"orFagkddon\",\"srUagkddon\",\"DrUagkddon\",\"oriagkddon\",\"urFagkddon\",\"DrFagkddon\",\"srFaguddon\",\"DrFagkddon\",\"DrFagkddon\",\"DrUagkddon\",\"DrFagRddon\",\"orUagkddon\",\"urFagkddon\",\"DrUagkddon\",\"DrFagkddon\",\"urFagkddon\",\"DrFagkddon\",\"DrFagkddon\",\"DrFagkddon\",\"DrFagkddon\",\"DrUagOddon\",\"urFagkddon\",\"DrUagkddon\",\"DrUagkddon\",\"NrUagkddon\",\"IrUagkddon\",\"DrUagkddon\",\"DrUagkddon\",\"DrFagGddon\",\"DrFagkddon\",\"urUagkddon\",\"DrFagxddon\",\"urFagvddon\",\"DrFagGddon\",\"DrUagvddon\",\"urFagkddon\",\"DrFagkddon\",\"DrUagkddon\",\"DrUagvddon\",\"DrYagkddon\",\"DrUagGddon\",\"DrhagGddon\",\"DrFagkddon\",\"DrUagkddon\",\"DrFagkddon\",\"urYagkddon\",\"DrUagGddon\",\"DrFagkddon\",\"DrFagkddon\",\"DrFagkddon\",\"Drmagkddon\",\"DrUagGddon\",\"DrFagkddon\",\"DrYagGddon\",\"DrYagGddon\",\"DrUagGddon\",\"DrUagGddon\",\"DrFagGddon\",\"DrUagTddon\",\"DrUagTddon\",\"DrFagTddon\",\"DrFagkddon\",\"DrVagdddon\",\"DrYagkddon\",\"DrUagTddon\",\"Drmagdddon\",\"Drmagdddon\",\"Drmagkddon\",\"Drmagkddon\",\"DrmagGddon\",\"Drmagkddon\",\"Drmagkddon\",\"Drmagkddon\",\"arUagkddon\",\"arNagkddon\",\"arUagkddon\",\"arNagkddon\",\"arNagTddon\",\"arNagkddon\",\"arNagkddon\",\"arUagkddon\",\"arvagkddon\",\"arNagkddon\",\"arUagdddon\",\"arUagGddon\",\"arUagTddon\",\"arNagTddon\",\"arNagTddon\",\"arUagTddon\",\"arNagTddon\",\"arUagkddon\",\"arUagTddon\",\"arxagkddon\",\"arUagkddon\",\"arNagTddon\",\"arUagTddon\",\"arUagdddon\",\"arNagdddon\",\"arbagTddon\",\"arNagTddon\",\"arUagTddon\",\"artagTddon\",\"arUagTddon\",\"arNagTddon\",\"arKagdddon\",\"arNagTddon\",\"arUagTddon\",\"arUagkddon\",\"arUagkddon\",\"arNagTddon\",\"arNagwddon\",\"arUagTddon\",\"arUagkddon\",\"arUagkddon\",\"arNagTddon\",\"arUagTddon\",\"arcagkddon\",\"arNagTddon\",\"arcagkddon\",\"arUagTddon\",\"arUagkddon\",\"arNagTddon\",\"armagTddon\",\"armagTddon\",\"arNagTddon\",\"arNagTddon\",\"arcagkddon\",\"arNagkddon\",\"arNagkddon\",\"arNagkddon\",\"arNagTddon\",\"arNagkddon\",\"arNagTddon\",\"arNagTddon\",\"aryaghddon\",\"arUagTddon\",\"arUagTddon\",\"arUagkddon\",\"armagaddon\",\"armagkddon\",\"armagkddon\",\"armagTddon\",\"armagkddon\",\"armagkddon\",\"armagkddon\",\"armagTddon\",\"armagTddon\",\"armagkddon\",\"armagkddon\",\"armagkddon\",\"armagkddon\",\"armagkddon\",\"armagkddon\",\"armagxddon\",\"armagkddon\",\"armagTddon\",\"armagTddon\",\"armagkddon\",\"armagkddon\",\"armagkddon\",\"armagkddon\",\"armagkddon\",\"armagkddon\",\"armageddon\"],\"score\":[20.0,20.0,20.0,20.0,30.0,30.0,30.0,30.0,40.0,40.0,40.0,40.0,50.0,50.0,40.0,50.0,50.0,50.0,60.0,60.0,60.0,60.0,60.0,60.0,60.0,60.0,60.0,60.0,60.0,60.0,60.0,60.0,70.0,70.0,70.0,70.0,70.0,70.0,70.0,70.0,70.0,80.0,80.0,70.0,70.0,70.0,80.0,80.0,80.0,80.0,80.0,80.0,70.0,70.0,70.0,70.0,70.0,70.0,70.0,70.0,70.0,70.0,70.0,70.0,70.0,70.0,70.0,70.0,70.0,70.0,70.0,70.0,70.0,70.0,70.0,70.0,70.0,70.0,70.0,70.0,70.0,70.0,70.0,70.0,70.0,70.0,70.0,70.0,70.0,70.0,70.0,70.0,70.0,70.0,70.0,70.0,70.0,70.0,70.0,70.0,70.0,70.0,70.0,70.0,80.0,70.0,70.0,70.0,70.0,70.0,70.0,70.0,70.0,70.0,70.0,70.0,70.0,70.0,70.0,80.0,80.0,80.0,80.0,80.0,80.0,80.0,80.0,80.0,80.0,80.0,80.0,80.0,80.0,80.0,80.0,80.0,80.0,80.0,80.0,80.0,80.0,80.0,80.0,80.0,80.0,80.0,80.0,80.0,80.0,80.0,80.0,80.0,80.0,80.0,80.0,80.0,80.0,80.0,80.0,80.0,80.0,80.0,80.0,80.0,80.0,80.0,80.0,80.0,80.0,80.0,80.0,80.0,80.0,80.0,80.0,80.0,90.0,90.0,80.0,80.0,80.0,80.0,80.0,80.0,80.0,80.0,80.0,80.0,80.0,80.0,80.0,80.0,90.0,90.0,90.0,90.0,90.0,90.0,90.0,90.0,90.0,90.0,90.0,90.0,90.0,90.0,90.0,90.0,90.0,90.0,90.0,90.0,90.0,90.0,90.0,90.0,90.0,100.0]}},\"id\":\"68753976-2f47-414d-8584-64d2d154e646\",\"type\":\"ColumnDataSource\"},{\"attributes\":{\"callback\":null,\"column_names\":[\"generation\",\"score\",\"individual\"],\"data\":{\"generation\":[0,50,100,150,200],\"individual\":[\"qYBaWdgiqn\",\"DrmagSddon\",\"DrUagGddon\",\"arUagdddon\",\"armagTddon\"],\"score\":[20.0,80.0,70.0,80.0,90.0]}},\"id\":\"96da392c-3984-4418-b771-f0d9060f944a\",\"type\":\"ColumnDataSource\"},{\"attributes\":{\"callback\":null,\"mode\":\"vline\",\"plot\":{\"id\":\"bbef25d7-a410-455a-bc67-0fbaabad9dbc\",\"subtype\":\"Figure\",\"type\":\"Plot\"},\"tooltips\":[[\"Best attempt:\",\"@individual\"],[\"Generation:\",\"@generation\"],[\"Score:\",\"@score\"]]},\"id\":\"7b30150f-d47d-45a7-ac1b-a4ed8aae33ba\",\"type\":\"HoverTool\"},{\"attributes\":{\"below\":[{\"id\":\"bc18cd0a-405d-4be0-9cc8-fec94fcae151\",\"type\":\"LinearAxis\"}],\"left\":[{\"id\":\"76153e18-5667-478c-9744-758b453fe493\",\"type\":\"LinearAxis\"}],\"plot_height\":500,\"plot_width\":800,\"renderers\":[{\"id\":\"bc18cd0a-405d-4be0-9cc8-fec94fcae151\",\"type\":\"LinearAxis\"},{\"id\":\"a2e4ee11-2d9a-4821-8732-8f34c31f3953\",\"type\":\"Grid\"},{\"id\":\"76153e18-5667-478c-9744-758b453fe493\",\"type\":\"LinearAxis\"},{\"id\":\"1acd475d-349e-4a97-a43e-263ac3b85921\",\"type\":\"Grid\"},{\"id\":\"a9bcece8-0070-4a58-928d-0d1d6129b2c8\",\"type\":\"GlyphRenderer\"},{\"id\":\"743d99a7-36bd-4c4e-a065-b37767109051\",\"type\":\"LabelSet\"}],\"title\":{\"id\":\"be1f7cd3-02fe-415a-8078-ae128eddf87e\",\"type\":\"Title\"},\"tool_events\":{\"id\":\"09e21dd0-a94b-46c9-9d35-00a4ae980f3d\",\"type\":\"ToolEvents\"},\"toolbar\":{\"id\":\"d9263534-3e9e-4be5-b347-7077bf09ef2c\",\"type\":\"Toolbar\"},\"x_range\":{\"id\":\"eeaf03f1-7724-4947-968d-4237c28f9e6b\",\"type\":\"DataRange1d\"},\"y_range\":{\"id\":\"bc79a2d4-d4c5-4a6a-bd08-d7bb2031090d\",\"type\":\"DataRange1d\"}},\"id\":\"bbef25d7-a410-455a-bc67-0fbaabad9dbc\",\"subtype\":\"Figure\",\"type\":\"Plot\"}],\"root_ids\":[\"bbef25d7-a410-455a-bc67-0fbaabad9dbc\"]},\"title\":\"Bokeh Application\",\"version\":\"0.12.5\"}};\n",
       "            var render_items = [{\"docid\":\"18d93de3-d169-48ae-974f-ae6416f56a4a\",\"elementid\":\"42ea8c76-4be3-4f3c-b828-f1138258f400\",\"modelid\":\"bbef25d7-a410-455a-bc67-0fbaabad9dbc\"}];\n",
       "            \n",
       "            Bokeh.embed.embed_items(docs_json, render_items);\n",
       "          };\n",
       "          if (document.readyState != \"loading\") fn();\n",
       "          else document.addEventListener(\"DOMContentLoaded\", fn);\n",
       "        })();\n",
       "      },\n",
       "      function(Bokeh) {\n",
       "      }\n",
       "    ];\n",
       "  \n",
       "    function run_inline_js() {\n",
       "      \n",
       "      if ((window.Bokeh !== undefined) || (force === true)) {\n",
       "        for (var i = 0; i < inline_js.length; i++) {\n",
       "          inline_js[i](window.Bokeh);\n",
       "        }if (force === true) {\n",
       "          display_loaded();\n",
       "        }} else if (Date.now() < window._bokeh_timeout) {\n",
       "        setTimeout(run_inline_js, 100);\n",
       "      } else if (!window._bokeh_failed_load) {\n",
       "        console.log(\"Bokeh: BokehJS failed to load within specified timeout.\");\n",
       "        window._bokeh_failed_load = true;\n",
       "      } else if (force !== true) {\n",
       "        var cell = $(document.getElementById(\"42ea8c76-4be3-4f3c-b828-f1138258f400\")).parents('.cell').data().cell;\n",
       "        cell.output_area.append_execute_result(NB_LOAD_WARNING)\n",
       "      }\n",
       "  \n",
       "    }\n",
       "  \n",
       "    if (window._bokeh_is_loading === 0) {\n",
       "      console.log(\"Bokeh: BokehJS loaded, going straight to plotting\");\n",
       "      run_inline_js();\n",
       "    } else {\n",
       "      load_libs(js_urls, function() {\n",
       "        console.log(\"Bokeh: BokehJS plotting callback run at\", now());\n",
       "        run_inline_js();\n",
       "      });\n",
       "    }\n",
       "  }(this));\n",
       "</script>"
      ]
     },
     "metadata": {},
     "output_type": "display_data"
    }
   ],
   "source": [
    "generation, score, individual = zip(*history)\n",
    "\n",
    "source = ColumnDataSource({\n",
    "    'generation': generation, \n",
    "    'score': score, \n",
    "    'individual': individual}\n",
    ")\n",
    "labels_source = ColumnDataSource({\n",
    "    'generation': generation[::50], \n",
    "    'score': score[::50], \n",
    "    'individual': individual[::50]}\n",
    ")\n",
    "\n",
    "TOOLTIPS = [\n",
    "    ('Best attempt:', '@individual'),\n",
    "    ('Generation:', '@generation'),\n",
    "    ('Score:', '@score')\n",
    "]\n",
    "\n",
    "hover = HoverTool(\n",
    "    tooltips=TOOLTIPS,\n",
    "    mode='vline'\n",
    ")\n",
    "\n",
    "labels = LabelSet(x='generation', y='score', text='individual', level='glyph', angle=.4,\n",
    "                  x_offset=15, y_offset=5, source=labels_source, render_mode='canvas')\n",
    "\n",
    "p = figure(plot_width=800, \n",
    "           plot_height=500, \n",
    "           tools=[hover],\n",
    "           title='Best fitted individual in each generation.')\n",
    "\n",
    "p.line(x='generation', y='score', source=source, line_width=2)\n",
    "p.xaxis.axis_label = 'Generation'\n",
    "p.yaxis.axis_label = 'Score'\n",
    "p.add_layout(labels)\n",
    "\n",
    "show(p)"
   ]
  },
  {
   "cell_type": "code",
   "execution_count": null,
   "metadata": {
    "collapsed": true
   },
   "outputs": [],
   "source": []
  },
  {
   "cell_type": "code",
   "execution_count": null,
   "metadata": {
    "collapsed": true
   },
   "outputs": [],
   "source": []
  }
 ],
 "metadata": {
  "kernelspec": {
   "display_name": "Python 3",
   "language": "python",
   "name": "python3"
  },
  "language_info": {
   "codemirror_mode": {
    "name": "ipython",
    "version": 3
   },
   "file_extension": ".py",
   "mimetype": "text/x-python",
   "name": "python",
   "nbconvert_exporter": "python",
   "pygments_lexer": "ipython3",
   "version": "3.6.7"
  }
 },
 "nbformat": 4,
 "nbformat_minor": 2
}
